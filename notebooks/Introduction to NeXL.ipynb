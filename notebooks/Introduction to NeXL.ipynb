{
 "cells": [
  {
   "attachments": {},
   "cell_type": "markdown",
   "metadata": {},
   "source": [
    "# Introduction to NeXL\n",
    "Nicholas W. M. Ritchie 30-Apr-2023 (nicholas.ritchie@nist.gov)\n",
    "\n",
    "## What is NeXL?\n",
    "NeXL is a collection of packages (libraries) for the [Julia language](https://julialang.org) that implement common X-ray microanalysis algorithms, physical data and utilities.\n",
    "\n",
    "The core NeXL packages are\n",
    "* [NeXLCore](https://github.com/usgovnist/NeXLCore) - Defines core concepts like elements, X-rays, atomic shells, k-ratios and fundamental electron and X-ray algorithms. \n",
    "* [NeXLMatrixCorrection](https://github.com/usgovnist/NeXLMatrixCorrection) - Implements algorithms for performing matrix correction for bulk samples\n",
    "* [NeXLSpectrum](https://github.com/usgovnist/NeXLSpectrum) - Implements data types and algorithms to handle spectra and hyper-spectra\n",
    "\n",
    "NeXL builds on many packages from the Julia infrastructure including\n",
    "* [Gadfly](https://github.com/GiovineItalia/Gadfly.org) - A \"grammar of graphics\" plotting package\n",
    "* [DataFrames](https://github.com/JuliaData/DataFrames.jl) - \"Pandas-like\" tools for working with tabular data\n",
    "\n",
    "## Why Julia?\n",
    "Julia is a high-performance scripting language designed for numerical data analysis.  The base Julia libraries provide basic scalar, vector and matrix numerical analysis tools.  Julia differs from most scriptable languages in that all code is compiled before execution.  This leads to a \"slow then fast\" user experience.  The first time a method is used, it and all the methods it depends upon must be compiled.  This can lead to a significant delay.  However, once compiled, the code is fast - often as fast as C or Fortran code.  You will notice this \"slow then fast\" nature as you work with this notebook.  It is particularly evident when creating plots."
   ]
  },
  {
   "attachments": {},
   "cell_type": "markdown",
   "metadata": {},
   "source": [
    "## NeXLCore\n",
    "We will start by exploring NeXLCore since this package provides core functionality for the other NeXL packages."
   ]
  },
  {
   "cell_type": "code",
   "execution_count": null,
   "metadata": {},
   "outputs": [],
   "source": [
    "using DrWatson\n",
    "@quickactivate \"IUMAS\"\n",
    "\n",
    "using NeXLCore"
   ]
  },
  {
   "attachments": {},
   "cell_type": "markdown",
   "metadata": {},
   "source": [
    "### Elements\n",
    "We will first construct a datum representing an element and then manipulate this object to extract elemental data.\n",
    "\n",
    "Julia is not an object-oriented language.  Instead it uses what is called \"multiple dispatch\" to determine which method implementation to call dependent on the arguments handed to the function."
   ]
  },
  {
   "cell_type": "code",
   "execution_count": null,
   "metadata": {},
   "outputs": [],
   "source": [
    "el = n\"Tc\"  # Here we are using a special syntactic sugar to convert the string \"Tc\" into an Element struct"
   ]
  },
  {
   "attachments": {},
   "cell_type": "markdown",
   "metadata": {},
   "source": [
    "Let's get some properties of this elemental datum."
   ]
  },
  {
   "cell_type": "code",
   "execution_count": null,
   "metadata": {},
   "outputs": [],
   "source": [
    "z(el), a(el), symbol(el), name(el)"
   ]
  },
  {
   "attachments": {},
   "cell_type": "markdown",
   "metadata": {},
   "source": [
    "We can combine elements into materials.  The `mat\"...\"` macro converts expressions into `Material` structs."
   ]
  },
  {
   "cell_type": "code",
   "execution_count": null,
   "metadata": {},
   "outputs": [],
   "source": [
    "mat = mat\"Ca(PO4)3OH\"\n",
    "mat, typeof(mat)"
   ]
  },
  {
   "cell_type": "markdown",
   "metadata": {},
   "source": [
    "An alternative syntax allows you to specify additional properties of the `Material`."
   ]
  },
  {
   "cell_type": "code",
   "execution_count": null,
   "metadata": {},
   "outputs": [],
   "source": [
    "mat = parse(Material, \"Ca(PO4)3OH\", name = \"Apatite\", density = 2.2)"
   ]
  },
  {
   "attachments": {},
   "cell_type": "markdown",
   "metadata": {},
   "source": [
    "In addition to being able to parse chemical formulae, NeXLCore can also parse expressions like the next one.  In this case, the multiplier represents the mass fraction of the element.  The right hand side can also be a chemical formula as though the material was made from various mass fractions of consituent materials."
   ]
  },
  {
   "cell_type": "code",
   "execution_count": null,
   "metadata": {},
   "outputs": [],
   "source": [
    "adm = parse(Material, \"0.3399*O+0.0664*Al+0.0405*Si+0.0683*Ca+0.0713*Ti+0.1055*Zn+0.3037*Ge\", name=\"ADM-6005a\")"
   ]
  },
  {
   "attachments": {},
   "cell_type": "markdown",
   "metadata": {},
   "source": [
    "In addition to elements and materials, `NeXLCore` provides mechanisms to work with characteristic X-rays, atomic shells and other atomic physics data.  The `n\"...\"` macro can be used to create `Element`, `CharXRay`, `AtomicSubShell` and `SubShell` structs."
   ]
  },
  {
   "cell_type": "code",
   "execution_count": null,
   "metadata": {},
   "outputs": [],
   "source": [
    "cxr = n\"Tc K-L3\"\n",
    "cxr, typeof(cxr)"
   ]
  },
  {
   "cell_type": "code",
   "execution_count": null,
   "metadata": {},
   "outputs": [],
   "source": [
    "ass = n\"Tc K\"\n",
    "ass, typeof(ass)"
   ]
  },
  {
   "attachments": {},
   "cell_type": "markdown",
   "metadata": {},
   "source": [
    "Let's get some properties of the `CharXRay` datum.  You'll notice that the energy is in electron-volts as is the case for all energies within NeXL."
   ]
  },
  {
   "cell_type": "code",
   "execution_count": null,
   "metadata": {},
   "outputs": [],
   "source": [
    "energy(cxr), inner(cxr), energy(inner(cxr)), outer(cxr), energy(outer(cxr)), typeof(inner(cxr))"
   ]
  },
  {
   "attachments": {},
   "cell_type": "markdown",
   "metadata": {},
   "source": [
    "To determine every characteristic X-ray generated by a particular element, you can use the `characteristic(...)`. To generate sub-sets of the transitions replace `alltransitions` with `ktransitions`, `ltransitions` or `mtransitions`."
   ]
  },
  {
   "cell_type": "code",
   "execution_count": null,
   "metadata": {},
   "outputs": [],
   "source": [
    "cxrs=characteristic(el, alltransitions)\n",
    "cxrs, length(cxrs)"
   ]
  },
  {
   "attachments": {},
   "cell_type": "markdown",
   "metadata": {},
   "source": [
    "Now we can use various functions to extract X-ray related physical data from elements and materials.  The `mac(...)` function returns the mass absorption coeffficient in $cm^2/g$."
   ]
  },
  {
   "cell_type": "code",
   "execution_count": null,
   "metadata": {},
   "outputs": [],
   "source": [
    "mac(mat, n\"Ca K-L3\"), mac(n\"Ca\", n\"Ca K-L3\"), mac(mat, 3692.0), mac(n\"Ca\", 3692.0)"
   ]
  },
  {
   "attachments": {},
   "cell_type": "markdown",
   "metadata": {},
   "source": [
    "This is an example of one of Julia's core design features - multiple dispatch.  The function `mac(...)` is called on four distinct argument types.\n",
    "* `mac(Material, CharXRay)`\n",
    "* `mac(Element, CharXRay)`\n",
    "* `mac(Material, Float64)`\n",
    "* `mac(Element, Float64)`\n",
    "\n",
    "This is similar but extends on the way object oriented code can use the object type to determine which function implementation to call.\n",
    " "
   ]
  },
  {
   "attachments": {},
   "cell_type": "markdown",
   "metadata": {},
   "source": [
    "`NeXL` uses the `Gadfly` library to plot spectra and other data items."
   ]
  },
  {
   "cell_type": "code",
   "execution_count": null,
   "metadata": {},
   "outputs": [],
   "source": [
    "using Gadfly\n",
    "plot(e->mac(mat, e), 100.0, 1.0e4, Scale.y_log10)"
   ]
  },
  {
   "cell_type": "code",
   "execution_count": null,
   "metadata": {},
   "outputs": [],
   "source": [
    "plot(\n",
    "    layer(e->mac(mat, e), 100.0, 1.0e4, Theme(default_color=\"Red\")),\n",
    "    layer(e->mac(n\"Ca\", e), 100.0, 1.0e4, Theme(default_color=\"Green\")),\n",
    "    layer(e->mac(n\"P\", e), 100.0, 1.0e4, Theme(default_color=\"Blue\")),\n",
    "    Scale.y_log10\n",
    ")"
   ]
  },
  {
   "attachments": {},
   "cell_type": "markdown",
   "metadata": {},
   "source": [
    "There is much more functionality in NeXLCore, but that is enought to get us started.  Next let's take a look at NeXLSpectrum.\n",
    "\n",
    "## NeXLSpectrum\n",
    "\n",
    "NeXLSpectrum defines methods for reading, writing, manipulating, plotting and fitting X-ray spectra and X-ray spectrum images (\"hyperspectra\"). "
   ]
  },
  {
   "cell_type": "code",
   "execution_count": null,
   "metadata": {},
   "outputs": [],
   "source": [
    "using NeXLSpectrum"
   ]
  },
  {
   "attachments": {},
   "cell_type": "markdown",
   "metadata": {},
   "source": [
    "First, we will read a spectrum from disk using the `loadspectrum(...)` method.  It take a filename and is able to sniff the file type for many common spectrum file formats."
   ]
  },
  {
   "cell_type": "code",
   "execution_count": null,
   "metadata": {},
   "outputs": [],
   "source": [
    "sp = loadspectrum(joinpath(datadir(), \"exp_raw\", \"ADM6005a spectra\",\"ADM-6005a_1.msa\"))"
   ]
  },
  {
   "cell_type": "code",
   "execution_count": null,
   "metadata": {},
   "outputs": [],
   "source": [
    "set_default_plot_size(10inch, 4inch)\n",
    "spec_files = [ joinpath(datadir(), \"exp_raw\", \"ADM6005a spectra\",\"ADM-6005a_$i.msa\") for i in 1:15 ]\n",
    "specs=loadspectrum.(spec_files)\n",
    "plot(specs..., klms=[n\"O\", n\"Al\", n\"Si\", n\"Ca\", n\"Ti\", n\"Zn\", n\"Ge\"])"
   ]
  },
  {
   "cell_type": "code",
   "execution_count": null,
   "metadata": {},
   "outputs": [],
   "source": [
    "plot(specs..., klms=[n\"O\", n\"Al\", n\"Si\", n\"Ca\", n\"Ti\", n\"Zn\", n\"Ge\"], xmax=6.0e3)"
   ]
  },
  {
   "attachments": {},
   "cell_type": "markdown",
   "metadata": {},
   "source": [
    "To quantify this data, we need standard spectra.  The standard spectra are preprocessed to optimize the fitting process.  The spectrum files are read from disk and must contain the following properties `:BeamEnergy`, `:LiveTime`, `:ProbeCurrent` and `:TakeOffAngle` to be fit and quantified.  It is possible to pre-load the standard spectra and edit the properties in the script if they are not present in the spectrum file."
   ]
  },
  {
   "cell_type": "code",
   "execution_count": null,
   "metadata": {},
   "outputs": [],
   "source": [
    "path=joinpath(datadir(), \"exp_raw\", \"ADM6005a spectra\")\n",
    "refs=references( [\n",
    "        reference(n\"O\", joinpath(path, \"SiO2 std.msa\"), mat\"SiO2\"),\n",
    "        reference(n\"Si\", joinpath(path, \"SiO2 std.msa\"), mat\"SiO2\"),\n",
    "        reference(n\"Al\", joinpath(path, \"Al std.msa\"), mat\"Al\"),\n",
    "        reference(n\"Ca\", joinpath(path, \"CaF2 std.msa\"), mat\"CaF2\"),\n",
    "        reference(n\"Ti\", joinpath(path, \"Ti trimmed.msa\"), mat\"Ti\"),\n",
    "        reference(n\"Zn\", joinpath(path, \"Zn std.msa\"), mat\"Zn\"),\n",
    "        reference(n\"Ge\", joinpath(path, \"Ge std.msa\"), mat\"Ge\"),\n",
    "    ], 132.0\n",
    ")\n",
    "using DataFrames\n",
    "asa(DataFrame, refs)  # Describe the references in a DataFrame"
   ]
  },
  {
   "attachments": {},
   "cell_type": "markdown",
   "metadata": {},
   "source": [
    "The references are then used to fit the unknown spectra and matrix correction is performed.  The `quantify(...)` method can be used to perform both operations or the `fit_spectrum(...)` method can be used to fit the references to the unknowns to produce k-ratios and then the k-ratios fed to the `quantify(...)` method to perform matrix correction.  The later two-step process is useful when you want to access the k-ratio data."
   ]
  },
  {
   "cell_type": "code",
   "execution_count": null,
   "metadata": {},
   "outputs": [],
   "source": [
    "qrs=map(sp->quantify(sp, refs),specs)\n",
    "qdf=asa(DataFrame, qrs, nominal=adm)"
   ]
  },
  {
   "attachments": {},
   "cell_type": "markdown",
   "metadata": {},
   "source": [
    "We can use the `describe(...)` method from `DataFrames` to generate summary statistics."
   ]
  },
  {
   "cell_type": "code",
   "execution_count": null,
   "metadata": {},
   "outputs": [],
   "source": [
    "describe(qdf[1:end-1,2:end], :mean, :std, :min, :max)"
   ]
  },
  {
   "attachments": {},
   "cell_type": "markdown",
   "metadata": {},
   "source": [
    "Or we can take a closer look at the data from one spectrum."
   ]
  },
  {
   "cell_type": "code",
   "execution_count": null,
   "metadata": {},
   "outputs": [],
   "source": [
    "asa(DataFrame, qrs[1])"
   ]
  },
  {
   "attachments": {},
   "cell_type": "markdown",
   "metadata": {},
   "source": [
    "Associated with each spectrum are a collection of properties.  These properties are often read from the spectrum file but can also be assigned manually."
   ]
  },
  {
   "cell_type": "code",
   "execution_count": null,
   "metadata": {},
   "outputs": [],
   "source": [
    "NeXLCore.properties(sp)"
   ]
  },
  {
   "attachments": {},
   "cell_type": "markdown",
   "metadata": {},
   "source": [
    "Properties are identified with a `Symbol` which is represented by a colon ':' plus a name.  There are many predefined spectrum properties but you can also define your own to associate custom data with spectra."
   ]
  },
  {
   "cell_type": "code",
   "execution_count": null,
   "metadata": {},
   "outputs": [],
   "source": [
    "sp[:BeamEnergy], sp[:ProbeCurrent], sp[:LiveTime], sp[:TakeOffAngle], dose(sp)"
   ]
  },
  {
   "attachments": {},
   "cell_type": "markdown",
   "metadata": {},
   "source": [
    "This is one way to index spectra to extract data from the spectrum.  It is also possible to extract channel count data using various different types as indices.  To demonstrate this, we will use `Integer`, `AbstractFloat` or `CharXRay` types to index the same channel in the spectrum - the channel associated with the Ca K-L3 peak."
   ]
  },
  {
   "cell_type": "code",
   "execution_count": null,
   "metadata": {},
   "outputs": [],
   "source": [
    "channel(n\"Ca K-L3\", sp), channel(Float64, n\"Ca K-L3\", sp), channel(energy(n\"Ca K-L3\"), sp), channel(Float64, energy(n\"Ca K-L3\"), sp)"
   ]
  },
  {
   "attachments": {},
   "cell_type": "markdown",
   "metadata": {},
   "source": [
    "In the first case, we index the channel directly by channel index.  In the second case, we use a floating point number which is assumed to represent an energy to index the same channel. Finally, we use a `CharXRay` to index the same channel."
   ]
  },
  {
   "cell_type": "code",
   "execution_count": null,
   "metadata": {},
   "outputs": [],
   "source": [
    "sp[833], sp[energy(n\"Ca K-L3\")], sp[n\"Ca K-L3\"]"
   ]
  },
  {
   "attachments": {},
   "cell_type": "markdown",
   "metadata": {},
   "source": [
    "Often it is useful to be able to determine which of a collection of spectra collected from a single material under similar conditions are similar to one another.  The notion being that the 'best' spectra are those that are most similar.  These can then be summed together to produce a single spectrum that best represents the material.  The `findsimilar(...)` method extracts the similar spectra from a list and removes outliers."
   ]
  },
  {
   "cell_type": "code",
   "execution_count": null,
   "metadata": {},
   "outputs": [],
   "source": [
    "plot(sum(findsimilar(specs, refs.detector, n\"O\")), klms=[n\"O\", n\"Al\", n\"Si\", n\"Ca\", n\"Ti\", n\"Zn\", n\"Ge\"])"
   ]
  },
  {
   "attachments": {},
   "cell_type": "markdown",
   "metadata": {},
   "source": [
    "The similarity is determined by comparing each spectrum with the sum of the other spectra and calculating a score that respects count statistics.  Similar spectra have a `similarity(...)` score of approximately unity."
   ]
  },
  {
   "cell_type": "code",
   "execution_count": null,
   "metadata": {},
   "outputs": [],
   "source": [
    "DataFrame(Name=name.(specs), S1=NeXLSpectrum.similarity(specs, refs.detector, adm), S2=NeXLSpectrum.similarity(specs), Counts=integrate.(specs))"
   ]
  },
  {
   "attachments": {},
   "cell_type": "markdown",
   "metadata": {},
   "source": [
    "#### HyperSpectra with NeXLSpectrum\n",
    "\n",
    "A `HyperSpectrum` represents a multi-dimensional array of point spectra.  `NeXLSpectrum` can handle a arbitrary number of dimensions like 1-D (linescans), 2-D (area scans) or higher dimensions.\n",
    "\n",
    "There are currently three ways to load a hyperspectrum.\n",
    "* From a Lispix-style RPL/RAW file pair\n",
    "* From a SEMantics-style PTZ file\n",
    "* From a HyperSpy-style HDF5 file"
   ]
  },
  {
   "attachments": {},
   "cell_type": "markdown",
   "metadata": {},
   "source": [
    "We will use the `DataDeps` library to download the hyperspectrum data on demand from the NIST data website.  You will need to be connected to the Internet."
   ]
  },
  {
   "cell_type": "code",
   "execution_count": null,
   "metadata": {},
   "outputs": [],
   "source": [
    "# DataDeps is a utility for downloading data on demand from a URL\n",
    "using DataDeps\n",
    "\n",
    "# Where do I want to put the data?\n",
    "ENV[\"DATADEPS_LOAD_PATH\"] = joinpath(datadir(), \"exp_raw\")\n",
    "ENV[\"DATADEPS_ALWAYS_ACCEPT\"]=\"true\"\n",
    "\n",
    "# Register the data sets using the names \"MnDeepSeaNodule\" and \"MnDeepSeaNoduleStandards\"\n",
    "register(DataDep(\"MnDeepSeaNodule\",\n",
    "    \"\"\"\n",
    "    Dataset:       Deep Sea Manganese Nodule\n",
    "    Acquired by:   Nicholas W.M. Ritchie\n",
    "    License:       CC-SA 3.0\n",
    "    \"\"\",\n",
    "    raw\"https://data.nist.gov/od/ds/mds2-2467/MnNodule.tar.gz\",\n",
    "    \"5b5b6623b8f4daca3ff3073708442ac5702ff690aa12668659875ec5642b458d\",\n",
    "    post_fetch_method=DataDeps.unpack\n",
    "));\n",
    "\n",
    "register(DataDep(\"MnDeepSeaNoduleStandards\",\n",
    "    \"\"\"\n",
    "    Dataset:       Standard Spectra for Deep Sea Manganese Nodule Dataset\n",
    "    Acquired by:   Nicholas W.M. Ritchie\n",
    "    License:       CC-SA 3.0\n",
    "    \"\"\",\n",
    "    raw\"https://data.nist.gov/od/ds/mds2-2467/MnNodule_Standards.tar.gz\",\n",
    "    \"69283ba72146932ba451e679cf02fbd6b350f96f6d012d50f589ed9dd2e35f1a\",\n",
    "    post_fetch_method=DataDeps.unpack\n",
    "));"
   ]
  },
  {
   "attachments": {},
   "cell_type": "markdown",
   "metadata": {},
   "source": [
    "The data is in RPL/RAW format - a format designed by David Bright at NIST and available from many EDS vendor's software.  In addition to the data in the RPL/RAW format, we also need to provide spectrum meta-data and the detector energy scale."
   ]
  },
  {
   "cell_type": "code",
   "execution_count": null,
   "metadata": {},
   "outputs": [],
   "source": [
    "raw = readrplraw(joinpath(datadep\"MnDeepSeaNodule\",\"map[15]\"))\n",
    "les = LinearEnergyScale(0.0, 10.0)\n",
    "props = Dict{Symbol,Any}(\n",
    "    :LiveTime => 0.72*4.0*18.0*3600.0/(1024.0*1024.0),\n",
    "    :BeamEnergy => 20.0e3,\n",
    "    :TakeOffAngle => deg2rad(35.0),\n",
    "    :ProbeCurrent => 1.0,\n",
    "    :Name => \"Deep Sea Mn Nodule\",\n",
    ")\n",
    "hs = HyperSpectrum(les, props, raw, fov = (0.2, 0.2))"
   ]
  },
  {
   "attachments": {},
   "cell_type": "markdown",
   "metadata": {},
   "source": [
    "It is easy to generate crude elemental maps from `HyperSpectrum` structs.  These are simple ROI maps constructed by summing a range of channels around the central channel for the specified X-ray transition."
   ]
  },
  {
   "cell_type": "code",
   "execution_count": null,
   "metadata": {},
   "outputs": [],
   "source": [
    "hs[n\"Mn K-L3\"]"
   ]
  },
  {
   "attachments": {},
   "cell_type": "markdown",
   "metadata": {},
   "source": [
    "Or I can create a RGB-colorized image where R represents an ROI around the first chararacteristic X-ray, green the second and blue the third."
   ]
  },
  {
   "cell_type": "code",
   "execution_count": null,
   "metadata": {},
   "outputs": [],
   "source": [
    "hs[n\"Mn K-L3\", n\"Si K-L3\", n\"O K-L3\"]"
   ]
  },
  {
   "attachments": {},
   "cell_type": "markdown",
   "metadata": {},
   "source": [
    "Much like spectra, hyperspectra have properties.  However, the same set of properties apply to all spectra within a hyperspectrum. There is one exception, `:LiveTime`, which can be an array of the same dimension as the hyperspectrum to represent a unique live-time per pixel."
   ]
  },
  {
   "cell_type": "code",
   "execution_count": null,
   "metadata": {},
   "outputs": [],
   "source": [
    "NeXLCore.properties(hs)"
   ]
  },
  {
   "attachments": {},
   "cell_type": "markdown",
   "metadata": {},
   "source": [
    "To speed up processing bin the data using a block size > 1. 4 will provide 16x faster processing but lower resolution results."
   ]
  },
  {
   "cell_type": "code",
   "execution_count": null,
   "metadata": {},
   "outputs": [],
   "source": [
    "# This speeds up the processing by binning a 1024 x 1024 hyperspectrum to 1024/block_size x 1024/block_size.\n",
    "block_size = 1\n",
    "hs = block_size > 1 ? block(hs, (block_size, block_size)) : hs"
   ]
  },
  {
   "attachments": {},
   "cell_type": "markdown",
   "metadata": {},
   "source": [
    "Unfortunately, ROI maps suffer from many shortcomings including\n",
    "* not being background corrected to eliminate the continuum signal\n",
    "* not being scaled for differences in generation efficiency between different characteristic X-rays.\n",
    "\n",
    "While they are convenient as a first glimse at the data, they can be very deceptive and should rarely be included in reports.\n",
    "\n",
    "Instead, it is better to fit the point spectra within the hyperspectrum using measured references."
   ]
  },
  {
   "cell_type": "code",
   "execution_count": null,
   "metadata": {},
   "outputs": [],
   "source": [
    "hs_elms = [ n\"Ag\", n\"Al\", n\"Ba\", n\"C\", n\"Ca\", n\"Ce\", n\"Cr\", n\"Cu\", n\"Fe\", n\"S\", n\"P\", n\"K\", n\"Mg\", n\"O\", n\"Mn\", n\"Na\", n\"Cl\", n\"Ni\", n\"Si\", n\"Ti\", n\"Zn\" ]\n",
    "plot(maxpixel(hs), klms = hs_elms, xmax=10.0e3)"
   ]
  },
  {
   "cell_type": "code",
   "execution_count": null,
   "metadata": {},
   "outputs": [],
   "source": [
    "print(symbol.(sort(hs_elms)))"
   ]
  },
  {
   "cell_type": "code",
   "execution_count": null,
   "metadata": {},
   "outputs": [],
   "source": [
    "refs = references( [\n",
    "        reference(n\"C\", joinpath(datadep\"MnDeepSeaNoduleStandards\", \"C std.msa\")),\n",
    "        reference(n\"O\", joinpath(datadep\"MnDeepSeaNoduleStandards\", \"MgO std.msa\")),\n",
    "        reference(n\"Na\", joinpath(datadep\"MnDeepSeaNoduleStandards\", \"NaCl std.msa\")),\n",
    "        reference(n\"Mg\", joinpath(datadep\"MnDeepSeaNoduleStandards\", \"Mg std.msa\")),\n",
    "        reference(n\"Al\", joinpath(datadep\"MnDeepSeaNoduleStandards\", \"Al std.msa\")),\n",
    "        reference(n\"Si\", joinpath(datadep\"MnDeepSeaNoduleStandards\", \"Si std.msa\")),\n",
    "        reference(n\"P\", joinpath(datadep\"MnDeepSeaNoduleStandards\", \"GaP std.msa\")), \n",
    "        reference(n\"S\", joinpath(datadep\"MnDeepSeaNoduleStandards\", \"FeS2 std.msa\")), \n",
    "        reference(n\"Cl\", joinpath(datadep\"MnDeepSeaNoduleStandards\", \"NaCl std.msa\")), \n",
    "        reference(n\"K\", joinpath(datadep\"MnDeepSeaNoduleStandards\", \"KBr std.msa\")), \n",
    "        reference(n\"Ca\", joinpath(datadep\"MnDeepSeaNoduleStandards\", \"CaF2 std.msa\")), \n",
    "        reference(n\"Ti\", joinpath(datadep\"MnDeepSeaNoduleStandards\", \"Ti std.msa\")), \n",
    "        reference(n\"Cr\", joinpath(datadep\"MnDeepSeaNoduleStandards\", \"Cr std.msa\")), \n",
    "        reference(n\"Mn\", joinpath(datadep\"MnDeepSeaNoduleStandards\", \"Mn std.msa\")), \n",
    "        reference(n\"Fe\", joinpath(datadep\"MnDeepSeaNoduleStandards\", \"Fe std.msa\")), \n",
    "        reference(n\"Ni\", joinpath(datadep\"MnDeepSeaNoduleStandards\", \"Ni std.msa\")), \n",
    "        reference(n\"Cu\", joinpath(datadep\"MnDeepSeaNoduleStandards\", \"Cu std.msa\")), \n",
    "        reference(n\"Zn\", joinpath(datadep\"MnDeepSeaNoduleStandards\", \"Zn std.msa\")), \n",
    "        reference(n\"Ag\", joinpath(datadep\"MnDeepSeaNoduleStandards\", \"Ag std.msa\")), \n",
    "        reference(n\"Ba\", joinpath(datadep\"MnDeepSeaNoduleStandards\", \"BaF2 std.msa\"))     \n",
    "    ], 132.0)\n",
    "\n",
    "asa(DataFrame, refs)"
   ]
  },
  {
   "attachments": {},
   "cell_type": "markdown",
   "metadata": {},
   "source": [
    "Now we will fit the references to the hyperspectrum unknown.  This is simple enough:\n",
    "\n",
    "`krs = fit_spectrum(hs, refs, mode = :Fast)`\n",
    "\n",
    "\n",
    "This is time consuming so once we've done it, we want to store the result in a file and reload the result rather than recalculate it.  `DrWatsons` provides a mechanism to do this based on a function `produce_or_load(....)`.  You specify where to put the data and it builds a filename based on the `prefix`, `suffix` and the configuration paramters in `@dict(mode, x_dim, y_dim)`.  The `suffix` specifies that the data is written using the `JLD2` library in HDF5 format."
   ]
  },
  {
   "cell_type": "code",
   "execution_count": null,
   "metadata": {},
   "outputs": [],
   "source": [
    "mode = :Full  # Single threaded took 92 seconds for :Fast or 6000 seconds for :Full (many cores take about 1/6 this.)\n",
    "\n",
    "# krs = @time fit_spectrum(hs, refs, mode = mode)  \n",
    "\n",
    "using FileIO, Parameters\n",
    "x_dim, y_dim = size(hs)\n",
    "data, file = produce_or_load(\n",
    "        joinpath(datadir(),\"exp_pro\"), # Path\n",
    "        @dict(mode, x_dim, y_dim),     # Configuration\n",
    "        prefix=\"kratios\", suffix=\"jld2\" # Filename parameters\n",
    "    ) do config\n",
    "        Dict(\"kratios\" => @time fit_spectrum(hs, refs, mode = mode, sigma=3.0)) # Zero k-ratios less that 3σ\n",
    "end\n",
    "@show file\n",
    "krs = data[\"kratios\"]"
   ]
  },
  {
   "attachments": {},
   "cell_type": "markdown",
   "metadata": {},
   "source": [
    "The result of `fit_spectrum(...)` is a set k-ratio maps. Which can be readily visualized and represent a more quantitative perspective on the spectrum data. The principle advantage being that the data is background corrected so that continuum is not mistaken for a small quantity of an element.\n",
    "\n",
    "To visualize the k-ratios, it is best to pick one k-ratio per element using `optimizeks(...)` and then normalize the k-ratios on a point-by-point basis using `normalizek(...)`.  This ensures that all the k-ratios are between 0 and 1.  The function `asa(ElementalMap, ...)` facilitates this process by converting a `Vector{KRatios}` into a dictionary of images indexed by `Element` instances."
   ]
  },
  {
   "cell_type": "code",
   "execution_count": null,
   "metadata": {},
   "outputs": [],
   "source": [
    "using Colors\n",
    "imgs = asa(ElementalMap, krs, Gray)\n",
    "imgs[n\"Mn\"]"
   ]
  },
  {
   "attachments": {},
   "cell_type": "markdown",
   "metadata": {},
   "source": [
    "We can perform matrix correction on the `Vector{KRatios}` using the `quantify(...)` method.  It returns a `Materials` struct which is a memory efficient way of representing a multi-dimensional array of `Material`."
   ]
  },
  {
   "cell_type": "code",
   "execution_count": null,
   "metadata": {},
   "outputs": [],
   "source": [
    "# quant=quantify(krs, name=hs[:Name], ty=Float32) # Takes ~80 minute for 1024 x 1024 (~5 ms per pixel)\n",
    "\n",
    "data, file = produce_or_load(\n",
    "        joinpath(datadir(),\"exp_pro\"), \n",
    "        @dict(mode, x_dim, y_dim),\n",
    "        prefix=\"quantify\", suffix=\"jld2\"\n",
    "    ) do config\n",
    "        Dict(\"mass_fractions\" => @time quantify(krs, name=hs[:Name], ty=Float32))\n",
    "end\n",
    "@show file\n",
    "quant = data[\"mass_fractions\"]"
   ]
  },
  {
   "attachments": {},
   "cell_type": "markdown",
   "metadata": {},
   "source": [
    "The `Materials` struct can be indexed at a specific coordinate to extract the composition at that coordinate as a `Material`."
   ]
  },
  {
   "cell_type": "code",
   "execution_count": null,
   "metadata": {},
   "outputs": [],
   "source": [
    "ci = CartesianIndex(64 ÷ block_size,192 ÷ block_size)\n",
    "plot(hs[ci], klms=quant[ci], xmax=10.0e3)"
   ]
  },
  {
   "cell_type": "code",
   "execution_count": null,
   "metadata": {},
   "outputs": [],
   "source": [
    "quant[ci]"
   ]
  },
  {
   "attachments": {},
   "cell_type": "markdown",
   "metadata": {},
   "source": [
    "Or we can index the results using an `Element` in which case, we pull out a slice representing the mass fractions associated with that element."
   ]
  },
  {
   "cell_type": "code",
   "execution_count": null,
   "metadata": {},
   "outputs": [],
   "source": [
    "t=quant[n\"Mn\"]"
   ]
  },
  {
   "attachments": {},
   "cell_type": "markdown",
   "metadata": {},
   "source": [
    "Using broadcast, we can apply `Material` functions to `Materials` objects.  The results is an Array with the same shape but with the result contents."
   ]
  },
  {
   "cell_type": "code",
   "execution_count": null,
   "metadata": {},
   "outputs": [],
   "source": [
    "anal_tot=analyticaltotal.(quant)"
   ]
  },
  {
   "cell_type": "code",
   "execution_count": null,
   "metadata": {},
   "outputs": [],
   "source": [
    "using Statistics\n",
    "mean(anal_tot), std(anal_tot)"
   ]
  },
  {
   "attachments": {},
   "cell_type": "markdown",
   "metadata": {},
   "source": [
    "To convert the mass-fractions to images, we need to ensure all mass-fractions are on the range [0,1].  We can do this by normalizing the individual points to an analytical total of unity."
   ]
  },
  {
   "cell_type": "code",
   "execution_count": null,
   "metadata": {},
   "outputs": [],
   "source": [
    "norm_quant=asnormalized(quant)"
   ]
  },
  {
   "attachments": {},
   "cell_type": "markdown",
   "metadata": {},
   "source": [
    "Now let's visualize this.  In Julia, it is trivial to convert matrices representing values on the range [0,1] to images.\n",
    "\n",
    "We will extract the plane of data corresponding to an element by indexing it with an `Element`.  `Log3Band` is a function that converts numbers between 0 and 1 to RGB values.  The mapping is displayed below in the legend."
   ]
  },
  {
   "cell_type": "code",
   "execution_count": null,
   "metadata": {},
   "outputs": [],
   "source": [
    "Log3Band.(norm_quant[n\"Ni\"])"
   ]
  },
  {
   "cell_type": "code",
   "execution_count": null,
   "metadata": {},
   "outputs": [],
   "source": [
    "loadlegend(\"Log3BandBright.png\")"
   ]
  },
  {
   "attachments": {},
   "cell_type": "markdown",
   "metadata": {},
   "source": [
    "The Ni elemental map can be seen to represent primarily values ranging from a few percent down to zero.  Albeit, this spectrum image took 18 hours to collect but the depth of information might surprise many who are used to thinking of spectrum images as a crude tool."
   ]
  },
  {
   "attachments": {},
   "cell_type": "markdown",
   "metadata": {},
   "source": [
    "Let's output various perspectives from each element to the 'plots' directory.  The `Gray` function converts values on the range [0,1] to gray-scale values."
   ]
  },
  {
   "cell_type": "code",
   "execution_count": null,
   "metadata": {},
   "outputs": [],
   "source": [
    "# Fast k-ratio maps\n",
    "imgs = asa(ElementalMap, krs, Log3Band) \n",
    "for (el, img) in imgs\n",
    "    save(joinpath(plotsdir(),\"$(symbol(el)) - $mode Log3Band.png\"), img)\n",
    "end\n",
    "# Full k-ratio maps\n",
    "for (el, img) in asa(ElementalMap, krs, Gray) \n",
    "    save(joinpath(plotsdir(),\"$(symbol(el)) - $mode Gray.png\"), img)\n",
    "end\n",
    "# Full quantitative maps - Fast fit\n",
    "for el in keys(norm_quant)\n",
    "    pl = norm_quant[el]\n",
    "    save(joinpath(plotsdir(),\"$(symbol(el)) - Quant $mode Gray.png\"), Gray.(pl))\n",
    "    save(joinpath(plotsdir(),\"$(symbol(el)) - Quant $mode Log3Band.png\"), Log3Band.(pl))\n",
    "end"
   ]
  },
  {
   "attachments": {},
   "cell_type": "markdown",
   "metadata": {},
   "source": [
    "Let's compare the results from the full fit with the results from the fast fit."
   ]
  },
  {
   "cell_type": "code",
   "execution_count": null,
   "metadata": {},
   "outputs": [],
   "source": [
    "els = sort([ keys(imgs)...])\n",
    "print(symbol.(els))"
   ]
  },
  {
   "attachments": {},
   "cell_type": "markdown",
   "metadata": {},
   "source": [
    "Plot the k-ratio images."
   ]
  },
  {
   "cell_type": "code",
   "execution_count": null,
   "metadata": {},
   "outputs": [],
   "source": [
    "map( el->imgs[el], els)"
   ]
  },
  {
   "attachments": {},
   "cell_type": "markdown",
   "metadata": {},
   "source": [
    "Plot the quantitative maps."
   ]
  },
  {
   "cell_type": "code",
   "execution_count": null,
   "metadata": {},
   "outputs": [],
   "source": [
    "map(el->Log3Band.(norm_quant[el]), els)"
   ]
  },
  {
   "attachments": {},
   "cell_type": "markdown",
   "metadata": {},
   "source": [
    "Clearly, the light element maps are where we see the influence of matrix correction.  When X-ray absorption is small, the k-ratio is generally a good approximation of the mass-fraction.  However, for low energy X-rays, the absorption can be strong leading to a significant underestimation of the mass fraction.  We see this particularly in the carbon data."
   ]
  },
  {
   "attachments": {},
   "cell_type": "markdown",
   "metadata": {},
   "source": [
    "To explore the data, let's plot histograms of the mass fractions from each element."
   ]
  },
  {
   "cell_type": "code",
   "execution_count": null,
   "metadata": {},
   "outputs": [],
   "source": [
    "colors = distinguishable_colors(length(els), colorant\"light blue\", lchoices=range(50, stop=100, length=15))\n",
    "    \n",
    "plot(\n",
    "    ( layer(x=quant[el], Geom.histogram, Theme(default_color=colors[i]), alpha=[0.6]) for (i, el) in enumerate(els) )...,\n",
    "    Guide.xlabel(\"Mass Fraction\"), Guide.ylabel(\"Counts\"), \n",
    "    Guide.manual_color_key(\"Element\", symbol.(els), colors),\n",
    "    Coord.cartesian(xmin=0.0, xmax=1.0, ymax=16.0e4/(block_size^2))\n",
    ")\n"
   ]
  },
  {
   "cell_type": "code",
   "execution_count": null,
   "metadata": {},
   "outputs": [],
   "source": [
    "plot(\n",
    "    ( layer(x=quant[el], Geom.histogram, Theme(default_color=colors[i]), alpha=[0.6]) for (i, el) in enumerate(els) )...,\n",
    "    Guide.xlabel(\"Mass Fraction\"), Guide.ylabel(\"Counts\"), \n",
    "    Guide.manual_color_key(\"Element\", symbol.(els), colors),\n",
    "    Coord.cartesian(xmin=0.0, xmax=0.05, ymax=16.0e4/block_size^2)\n",
    ")"
   ]
  },
  {
   "attachments": {},
   "cell_type": "markdown",
   "metadata": {},
   "source": [
    "We can easily query the quantified data using broadcast syntax to create BitMatrix based on a boolean comparison.\n",
    "To determine which pixels have a mass-fraction of Si > 5% we create a mask.  In this `BitMatrix` mask, 1 represents a true comparison and 0 a false comparison."
   ]
  },
  {
   "cell_type": "code",
   "execution_count": null,
   "metadata": {},
   "outputs": [],
   "source": [
    "mask_si = quant[n\"Si\"] .> 0.05"
   ]
  },
  {
   "attachments": {},
   "cell_type": "markdown",
   "metadata": {},
   "source": [
    "Using similar syntax we can determine how many pixels have at least 50%, 10%, 5% and 1% of an element?"
   ]
  },
  {
   "cell_type": "code",
   "execution_count": null,
   "metadata": {},
   "outputs": [],
   "source": [
    "DataFrame(\n",
    "    Element=symbol.(els), \n",
    "    P50=map(el->count(quant[el] .> 0.5),els), \n",
    "    P10=map(el->count(quant[el] .> 0.1),els), \n",
    "    P5=map(el->count(quant[el] .> 0.05),els), \n",
    "    P1=map(el->count(quant[el] .> 0.01),els)\n",
    ")"
   ]
  },
  {
   "attachments": {},
   "cell_type": "markdown",
   "metadata": {},
   "source": [
    "A mask can then be applied to extract and sum the requisite spectra within the hyperspectrum."
   ]
  },
  {
   "cell_type": "code",
   "execution_count": null,
   "metadata": {},
   "outputs": [],
   "source": [
    "plot( sum(hs, quant[n\"Si\"] .> 0.05), klms=els, xmax=10.0e3)"
   ]
  },
  {
   "attachments": {},
   "cell_type": "markdown",
   "metadata": {},
   "source": [
    "Let's do something similar for Cu > 10%."
   ]
  },
  {
   "cell_type": "code",
   "execution_count": null,
   "metadata": {},
   "outputs": [],
   "source": [
    "plot( sum(hs, quant[n\"Cu\"] .> 0.1), klms=els, xmax=10.0e3)"
   ]
  },
  {
   "attachments": {},
   "cell_type": "markdown",
   "metadata": {},
   "source": [
    "And silver..."
   ]
  },
  {
   "cell_type": "code",
   "execution_count": null,
   "metadata": {},
   "outputs": [],
   "source": [
    "plot( sum(hs, quant[n\"Ag\"] .> 0.05), klms=els, xmax=10.0e3)"
   ]
  },
  {
   "attachments": {},
   "cell_type": "markdown",
   "metadata": {},
   "source": [
    "Finally, to visualize the relative abundances and locations of the elements in the quantified data, we can construct a RGB image. "
   ]
  },
  {
   "cell_type": "code",
   "execution_count": null,
   "metadata": {},
   "outputs": [],
   "source": [
    "using ImageCore\n",
    "colorview(RGB, norm_quant[n\"Mn\"], norm_quant[n\"Si\"], norm_quant[n\"O\"])"
   ]
  },
  {
   "attachments": {},
   "cell_type": "markdown",
   "metadata": {},
   "source": [
    "Compare this with the ROI map from earlier."
   ]
  },
  {
   "cell_type": "code",
   "execution_count": null,
   "metadata": {},
   "outputs": [],
   "source": [
    "hs[n\"Mn K-L3\", n\"Si K-L3\", n\"O K-L3\"]"
   ]
  },
  {
   "attachments": {},
   "cell_type": "markdown",
   "metadata": {},
   "source": [
    "This is just a flavor of what you can do with spectra and hyperspectra using Julia, the Julia library infrastructure including the `NeXL` libraries.  There are many machine learning, chemometric, image analysis and other libraries that can be readily applied."
   ]
  }
 ],
 "metadata": {
  "kernelspec": {
   "display_name": "Julia - 1.8.5 18 threads 1.8.5",
   "language": "julia",
   "name": "julia---1.8.5-18-threads-1.8"
  },
  "language_info": {
   "file_extension": ".jl",
   "mimetype": "application/julia",
   "name": "julia",
   "version": "1.8.5"
  },
  "orig_nbformat": 4
 },
 "nbformat": 4,
 "nbformat_minor": 2
}
